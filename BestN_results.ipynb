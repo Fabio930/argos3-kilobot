{
 "cells": [
  {
   "cell_type": "code",
   "execution_count": 1,
   "metadata": {
    "notebookRunGroups": {
     "groupValue": ""
    }
   },
   "outputs": [],
   "source": [
    "import BestN_results_grinder as grind\n",
    "import BestN_results_pareto as potter\n",
    "\n",
    "bestNresults = grind.Grinder()"
   ]
  },
  {
   "cell_type": "code",
   "execution_count": 2,
   "metadata": {
    "notebookRunGroups": {
     "groupValue": ""
    }
   },
   "outputs": [
    {
     "name": "stdout",
     "output_type": "stream",
     "text": [
      "COMMITMENTS--key(#agents,Msteps,branches,depth,r,k): (20,3600,2,1,1.0,0.75), NOT enough entries for mean and std\n"
     ]
    },
    {
     "name": "stderr",
     "output_type": "stream",
     "text": [
      "/home/fabio/argos3-kilobot/BestN_results_grinder.py:10: RuntimeWarning: overflow encountered in power\n",
      "  return (1-np.exp(-np.power(x/alpha,gamma)))\n"
     ]
    },
    {
     "name": "stdout",
     "output_type": "stream",
     "text": [
      "LOCATIONS--key(#agents,Msteps,branches,depth,r,k): (20,3600,2,1,1.0,0.75), removed: 8, mean: 3599.4228987732745, std: 1.2824402149584329\n",
      "COMMITMENTS--key(#agents,Msteps,branches,depth,r,k): (20,3600,2,1,1.0,0.85), NOT enough entries for mean and std\n",
      "LOCATIONS--key(#agents,Msteps,branches,depth,r,k): (20,3600,2,1,1.0,0.85), removed: 3, mean: 3021.3830637544283, std: 1.282385437848918\n",
      "COMMITMENTS--key(#agents,Msteps,branches,depth,r,k): (20,3600,2,1,1.0,1.0), NOT enough entries for mean and std\n",
      "LOCATIONS--key(#agents,Msteps,branches,depth,r,k): (20,3600,2,1,1.0,1.0), removed: 0, mean: 2333.423207928687, std: 1.2818317219416246\n",
      "COMMITMENTS--key(#agents,Msteps,branches,depth,r,k): (20,3600,2,1,3.0,0.75), NOT enough entries for mean and std\n",
      "LOCATIONS--key(#agents,Msteps,branches,depth,r,k): (20,3600,2,1,3.0,0.75), removed: 1, mean: 2029.3806469484205, std: 1.282302073777793\n",
      "COMMITMENTS--key(#agents,Msteps,branches,depth,r,k): (20,3600,2,1,3.0,0.85), NOT enough entries for mean and std\n",
      "LOCATIONS--key(#agents,Msteps,branches,depth,r,k): (20,3600,2,1,3.0,0.85), removed: 0, mean: 1794.3820036060915, std: 1.2822715837806997\n",
      "COMMITMENTS--key(#agents,Msteps,branches,depth,r,k): (20,3600,2,1,3.0,1.0), NOT enough entries for mean and std\n",
      "LOCATIONS--key(#agents,Msteps,branches,depth,r,k): (20,3600,2,1,3.0,1.0), removed: 0, mean: 1569.4234139391945, std: 1.281482735181749\n",
      "COMMITMENTS--key(#agents,Msteps,branches,depth,r,k): (20,3600,2,1,5.0,0.75), NOT enough entries for mean and std\n",
      "LOCATIONS--key(#agents,Msteps,branches,depth,r,k): (20,3600,2,1,5.0,0.75), removed: 1, mean: 2081.382280446739, std: 1.2823102706552665\n",
      "COMMITMENTS--key(#agents,Msteps,branches,depth,r,k): (20,3600,2,1,5.0,0.85), NOT enough entries for mean and std\n",
      "LOCATIONS--key(#agents,Msteps,branches,depth,r,k): (20,3600,2,1,5.0,0.85), removed: 0, mean: 1593.3818708167244, std: 1.2822362960422744\n",
      "COMMITMENTS--key(#agents,Msteps,branches,depth,r,k): (20,3600,2,1,5.0,1.0), NOT enough entries for mean and std\n",
      "LOCATIONS--key(#agents,Msteps,branches,depth,r,k): (20,3600,2,1,5.0,1.0), removed: 0, mean: 1253.3814534366606, std: 1.2821510399652631\n"
     ]
    },
    {
     "name": "stderr",
     "output_type": "stream",
     "text": [
      "/home/fabio/argos3-kilobot/BestN_results_grinder.py:454: UserWarning: linestyle is redundantly defined by the 'linestyle' keyword argument and the fmt string \"-\" (-> linestyle='-'). The keyword argument will take precedence.\n",
      "  ax.errorbar(x, mean_y, std_e, linestyle='None',fmt='-', marker='o')\n",
      "/home/fabio/argos3-kilobot/BestN_results_grinder.py:10: RuntimeWarning: overflow encountered in power\n",
      "  return (1-np.exp(-np.power(x/alpha,gamma)))\n"
     ]
    },
    {
     "name": "stdout",
     "output_type": "stream",
     "text": [
      "COMMITMENTS--key(#agents,Msteps,branches,depth,r,k): (20,3600,2,2,1.0,0.75), NOT enough entries for mean and std\n",
      "LOCATIONS--key(#agents,Msteps,branches,depth,r,k): (20,3600,2,2,1.0,0.75), removed: 65, mean: 3601.276565447663, std: 1.2823881699696127\n",
      "COMMITMENTS--key(#agents,Msteps,branches,depth,r,k): (20,3600,2,2,1.0,0.85), NOT enough entries for mean and std\n",
      "LOCATIONS--key(#agents,Msteps,branches,depth,r,k): (20,3600,2,2,1.0,0.85), removed: 65, mean: 3601.2772105772688, std: 1.2820843510960247\n",
      "COMMITMENTS--key(#agents,Msteps,branches,depth,r,k): (20,3600,2,2,1.0,1.0), NOT enough entries for mean and std\n",
      "LOCATIONS--key(#agents,Msteps,branches,depth,r,k): (20,3600,2,2,1.0,1.0), removed: 52, mean: 3600.860044677377, std: 1.282239837606818\n",
      "COMMITMENTS--key(#agents,Msteps,branches,depth,r,k): (20,3600,2,2,3.0,0.75), NOT enough entries for mean and std\n",
      "LOCATIONS--key(#agents,Msteps,branches,depth,r,k): (20,3600,2,2,3.0,0.75), removed: 37, mean: 3600.422898741485, std: 1.2824402454593071\n",
      "COMMITMENTS--key(#agents,Msteps,branches,depth,r,k): (20,3600,2,2,3.0,0.85), NOT enough entries for mean and std\n",
      "LOCATIONS--key(#agents,Msteps,branches,depth,r,k): (20,3600,2,2,3.0,0.85), removed: 38, mean: 3600.4228987414854, std: 1.2824402454593071\n",
      "COMMITMENTS--key(#agents,Msteps,branches,depth,r,k): (20,3600,2,2,3.0,1.0), NOT enough entries for mean and std\n",
      "LOCATIONS--key(#agents,Msteps,branches,depth,r,k): (20,3600,2,2,3.0,1.0), removed: 27, mean: 3600.1678122109424, std: 1.2823493888522302\n",
      "COMMITMENTS--key(#agents,Msteps,branches,depth,r,k): (20,3600,2,2,5.0,0.75), NOT enough entries for mean and std\n",
      "LOCATIONS--key(#agents,Msteps,branches,depth,r,k): (20,3600,2,2,5.0,0.75), removed: 32, mean: 3600.3082931644963, std: 1.2823585956518735\n",
      "COMMITMENTS--key(#agents,Msteps,branches,depth,r,k): (20,3600,2,2,5.0,0.85), NOT enough entries for mean and std\n",
      "LOCATIONS--key(#agents,Msteps,branches,depth,r,k): (20,3600,2,2,5.0,0.85), removed: 19, mean: 3599.939196172436, std: 1.282095672917045\n",
      "COMMITMENTS--key(#agents,Msteps,branches,depth,r,k): (20,3600,2,2,5.0,1.0), NOT enough entries for mean and std\n",
      "LOCATIONS--key(#agents,Msteps,branches,depth,r,k): (20,3600,2,2,5.0,1.0), removed: 29, mean: 3600.228394775674, std: 1.2823016768605018\n"
     ]
    },
    {
     "name": "stderr",
     "output_type": "stream",
     "text": [
      "/home/fabio/argos3-kilobot/BestN_results_grinder.py:454: UserWarning: linestyle is redundantly defined by the 'linestyle' keyword argument and the fmt string \"-\" (-> linestyle='-'). The keyword argument will take precedence.\n",
      "  ax.errorbar(x, mean_y, std_e, linestyle='None',fmt='-', marker='o')\n"
     ]
    },
    {
     "name": "stdout",
     "output_type": "stream",
     "text": [
      "COMMITMENTS--key(#agents,Msteps,branches,depth,r,k): (20,3600,4,1,1.0,0.75), NOT enough entries for mean and std\n"
     ]
    },
    {
     "name": "stderr",
     "output_type": "stream",
     "text": [
      "/home/fabio/argos3-kilobot/BestN_results_grinder.py:10: RuntimeWarning: overflow encountered in power\n",
      "  return (1-np.exp(-np.power(x/alpha,gamma)))\n"
     ]
    },
    {
     "name": "stdout",
     "output_type": "stream",
     "text": [
      "LOCATIONS--key(#agents,Msteps,branches,depth,r,k): (20,3600,4,1,1.0,0.75), removed: 29, mean: 3600.2287710799183, std: 1.2823019463139738\n",
      "COMMITMENTS--key(#agents,Msteps,branches,depth,r,k): (20,3600,4,1,1.0,0.85), NOT enough entries for mean and std\n",
      "LOCATIONS--key(#agents,Msteps,branches,depth,r,k): (20,3600,4,1,1.0,0.85), removed: 31, mean: 3600.282687141286, std: 1.2823403562907811\n",
      "COMMITMENTS--key(#agents,Msteps,branches,depth,r,k): (20,3600,4,1,1.0,1.0), NOT enough entries for mean and std\n",
      "LOCATIONS--key(#agents,Msteps,branches,depth,r,k): (20,3600,4,1,1.0,1.0), removed: 17, mean: 3599.8773574098464, std: 1.2820516279578125\n",
      "COMMITMENTS--key(#agents,Msteps,branches,depth,r,k): (20,3600,4,1,3.0,0.75), NOT enough entries for mean and std\n",
      "LOCATIONS--key(#agents,Msteps,branches,depth,r,k): (20,3600,4,1,3.0,0.75), removed: 2, mean: 3069.3822470620494, std: 1.2824041689540195\n",
      "COMMITMENTS--key(#agents,Msteps,branches,depth,r,k): (20,3600,4,1,3.0,0.85), NOT enough entries for mean and std\n",
      "LOCATIONS--key(#agents,Msteps,branches,depth,r,k): (20,3600,4,1,3.0,0.85), removed: 4, mean: 3093.3816594480722, std: 1.282388098798015\n",
      "COMMITMENTS--key(#agents,Msteps,branches,depth,r,k): (20,3600,4,1,3.0,1.0), NOT enough entries for mean and std\n",
      "LOCATIONS--key(#agents,Msteps,branches,depth,r,k): (20,3600,4,1,3.0,1.0), removed: 5, mean: 3599.3839470495996, std: 1.2824124559573054\n",
      "COMMITMENTS--key(#agents,Msteps,branches,depth,r,k): (20,3600,4,1,5.0,0.75), NOT enough entries for mean and std\n",
      "LOCATIONS--key(#agents,Msteps,branches,depth,r,k): (20,3600,4,1,5.0,0.75), removed: 3, mean: 2421.3470184023668, std: 1.2823467663148118\n",
      "COMMITMENTS--key(#agents,Msteps,branches,depth,r,k): (20,3600,4,1,5.0,0.85), NOT enough entries for mean and std\n",
      "LOCATIONS--key(#agents,Msteps,branches,depth,r,k): (20,3600,4,1,5.0,0.85), removed: 4, mean: 3453.3427620962866, std: 1.2823760576688155\n",
      "COMMITMENTS--key(#agents,Msteps,branches,depth,r,k): (20,3600,4,1,5.0,1.0), NOT enough entries for mean and std\n",
      "LOCATIONS--key(#agents,Msteps,branches,depth,r,k): (20,3600,4,1,5.0,1.0), removed: 0, mean: 2673.38327808067, std: 1.2823642528223542\n"
     ]
    },
    {
     "name": "stderr",
     "output_type": "stream",
     "text": [
      "/home/fabio/argos3-kilobot/BestN_results_grinder.py:454: UserWarning: linestyle is redundantly defined by the 'linestyle' keyword argument and the fmt string \"-\" (-> linestyle='-'). The keyword argument will take precedence.\n",
      "  ax.errorbar(x, mean_y, std_e, linestyle='None',fmt='-', marker='o')\n",
      "/home/fabio/argos3-kilobot/BestN_results_grinder.py:10: RuntimeWarning: overflow encountered in power\n",
      "  return (1-np.exp(-np.power(x/alpha,gamma)))\n"
     ]
    }
   ],
   "source": [
    "results,bases,N_agents,branches,depth,k,r,max_steps = bestNresults.extract_data()\n",
    "commtiments,locations,_ = bestNresults.plot_weibulls(results,bases,N_agents,branches,depth,k,r,max_steps)"
   ]
  },
  {
   "cell_type": "code",
   "execution_count": 3,
   "metadata": {},
   "outputs": [],
   "source": [
    "bestNresults.write_percentages(commtiments,bases,N_agents,branches,depth,k,r,max_steps)"
   ]
  },
  {
   "cell_type": "code",
   "execution_count": 4,
   "metadata": {},
   "outputs": [],
   "source": [
    "bestNresults.write_percentages(locations,bases,N_agents,branches,depth,k,r,max_steps)"
   ]
  }
 ],
 "metadata": {
  "kernelspec": {
   "display_name": "Python 3",
   "language": "python",
   "name": "python3"
  },
  "language_info": {
   "codemirror_mode": {
    "name": "ipython",
    "version": 3
   },
   "file_extension": ".py",
   "mimetype": "text/x-python",
   "name": "python",
   "nbconvert_exporter": "python",
   "pygments_lexer": "ipython3",
   "version": "3.8.10 (default, Nov 14 2022, 12:59:47) \n[GCC 9.4.0]"
  },
  "orig_nbformat": 4,
  "vscode": {
   "interpreter": {
    "hash": "916dbcbb3f70747c44a77c7bcd40155683ae19c65e1c03b4aa3499c5328201f1"
   }
  }
 },
 "nbformat": 4,
 "nbformat_minor": 2
}
