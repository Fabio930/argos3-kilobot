{
 "cells": [
  {
   "cell_type": "code",
   "execution_count": null,
   "metadata": {
    "notebookRunGroups": {
     "groupValue": ""
    }
   },
   "outputs": [],
   "source": [
    "import BestN_results_grinder as grind\n",
    "import BestN_results_pareto as potter\n",
    "\n",
    "bestNresults = grind.Grinder()\n",
    "\n",
    "results,bases,N_agents,branches,depth,k,r,max_steps = bestNresults.extract_data()\n",
    "data,_ = bestNresults.plot_weibulls(results,bases,N_agents,branches,depth,k,r,max_steps)\n",
    "bestNresults.write_percentages(data,bases,N_agents,branches,depth,k,r,max_steps)"
   ]
  }
 ],
 "metadata": {
  "kernelspec": {
   "display_name": "Python 3",
   "language": "python",
   "name": "python3"
  },
  "language_info": {
   "codemirror_mode": {
    "name": "ipython",
    "version": 3
   },
   "file_extension": ".py",
   "mimetype": "text/x-python",
   "name": "python",
   "nbconvert_exporter": "python",
   "pygments_lexer": "ipython3",
   "version": "3.8.10"
  },
  "orig_nbformat": 4,
  "vscode": {
   "interpreter": {
    "hash": "916dbcbb3f70747c44a77c7bcd40155683ae19c65e1c03b4aa3499c5328201f1"
   }
  }
 },
 "nbformat": 4,
 "nbformat_minor": 2
}
