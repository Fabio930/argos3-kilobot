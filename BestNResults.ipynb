{
 "cells": [
  {
   "cell_type": "code",
   "execution_count": 1,
   "metadata": {
    "notebookRunGroups": {
     "groupValue": "12"
    }
   },
   "outputs": [],
   "source": [
    "import BestNresults as BNres\n",
    "\n",
    "percentages_by_leaf = False\n",
    "evaluation = ['position','commitment']\n",
    "\n",
    "bestNresults = BNres.Results()"
   ]
  },
  {
   "cell_type": "code",
   "execution_count": 2,
   "metadata": {
    "notebookRunGroups": {
     "groupValue": "1"
    }
   },
   "outputs": [],
   "source": [
    "results,bases,N_agents,branches,depth,k,r,max_steps,date = bestNresults.extract_data()\n",
    "bestNresults.plot_percentages_on_leaf(results,bases,N_agents,branches,depth,k,r,max_steps)\n",
    "for evalit in evaluation:\n",
    "    data = bestNresults.plot_weibulls(results,bases,N_agents,branches,depth,k,r,max_steps,date,evalit)\n",
    "    bestNresults.write_percentages(data,bases,N_agents,branches,depth,k,r,max_steps,date,evalit,percentages_by_leaf)"
   ]
  },
  {
   "cell_type": "code",
   "execution_count": 3,
   "metadata": {
    "notebookRunGroups": {
     "groupValue": "2"
    }
   },
   "outputs": [],
   "source": [
    "qresults,qbases,qN_agents,qbranches,qdepth,qk,qr,qmax_steps = bestNresults.extract_k_quorum_data()\n",
    "bestNresults.do_something_quorum(qresults,qbases,qN_agents,qbranches,qdepth,qk,qr,qmax_steps)"
   ]
  },
  {
   "cell_type": "code",
   "execution_count": null,
   "metadata": {
    "notebookRunGroups": {
     "groupValue": ""
    }
   },
   "outputs": [],
   "source": [
    "bestNresults.plot_pareto_diagram()"
   ]
  },
  {
   "attachments": {},
   "cell_type": "markdown",
   "metadata": {},
   "source": [
    "Not saving the next images"
   ]
  },
  {
   "cell_type": "code",
   "execution_count": null,
   "metadata": {
    "notebookRunGroups": {
     "groupValue": ""
    }
   },
   "outputs": [],
   "source": [
    "ARK_data_positions = bestNresults.sort_ark_positions_by_node()\n",
    "bestNresults.plot_positions_distribution(ARK_data_positions)\n",
    "KILO_data_positions = bestNresults.sort_kilo_positions_by_node()\n",
    "bestNresults.plot_positions_distribution(KILO_data_positions)"
   ]
  }
 ],
 "metadata": {
  "kernelspec": {
   "display_name": "Python 3",
   "language": "python",
   "name": "python3"
  },
  "language_info": {
   "codemirror_mode": {
    "name": "ipython",
    "version": 3
   },
   "file_extension": ".py",
   "mimetype": "text/x-python",
   "name": "python",
   "nbconvert_exporter": "python",
   "pygments_lexer": "ipython3",
   "version": "3.8.10"
  },
  "orig_nbformat": 4,
  "vscode": {
   "interpreter": {
    "hash": "916dbcbb3f70747c44a77c7bcd40155683ae19c65e1c03b4aa3499c5328201f1"
   }
  }
 },
 "nbformat": 4,
 "nbformat_minor": 2
}
